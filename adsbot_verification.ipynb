{
 "cells": [
  {
   "cell_type": "markdown",
   "source": [
    "# ADsBot Verification\n",
    "Use crawl log data to verify crawling of AdsBot using Google IP ranges"
   ],
   "metadata": {
    "collapsed": false
   },
   "id": "50bf1418bae14c3a"
  },
  {
   "cell_type": "code",
   "source": [
    "import pandas as pd\n",
    "import requests"
   ],
   "metadata": {
    "collapsed": false,
    "ExecuteTime": {
     "end_time": "2024-08-17T18:17:10.512417Z",
     "start_time": "2024-08-17T18:17:10.509661Z"
    }
   },
   "id": "initial_id",
   "outputs": [],
   "execution_count": 42
  },
  {
   "cell_type": "markdown",
   "source": "## Load Crawl Data",
   "metadata": {
    "collapsed": false
   },
   "id": "bac85917f9316113"
  },
  {
   "cell_type": "code",
   "source": [
    "data = pd.read_csv('data/AdsBot_logs.csv')\n",
    "df = data.copy()\n",
    "df.head()"
   ],
   "metadata": {
    "collapsed": false,
    "ExecuteTime": {
     "end_time": "2024-08-17T18:19:09.200425Z",
     "start_time": "2024-08-17T18:19:09.195770Z"
    }
   },
   "id": "8c7758751afcb0d7",
   "outputs": [
    {
     "data": {
      "text/plain": [
       "                                           userAgent       remoteIp  count\n",
       "0  AdsBot-Google (+http://www.google.com/adsbot.h...   72.14.199.98    515\n",
       "1  AdsBot-Google (+http://www.google.com/adsbot.h...  72.14.199.101    510\n",
       "2  AdsBot-Google (+http://www.google.com/adsbot.h...   72.14.199.99    508\n",
       "3  AdsBot-Google (+http://www.google.com/adsbot.h...  72.14.199.100    499\n",
       "4  AdsBot-Google (+http://www.google.com/adsbot.h...   72.14.199.96    494"
      ],
      "text/html": [
       "<div>\n",
       "<style scoped>\n",
       "    .dataframe tbody tr th:only-of-type {\n",
       "        vertical-align: middle;\n",
       "    }\n",
       "\n",
       "    .dataframe tbody tr th {\n",
       "        vertical-align: top;\n",
       "    }\n",
       "\n",
       "    .dataframe thead th {\n",
       "        text-align: right;\n",
       "    }\n",
       "</style>\n",
       "<table border=\"1\" class=\"dataframe\">\n",
       "  <thead>\n",
       "    <tr style=\"text-align: right;\">\n",
       "      <th></th>\n",
       "      <th>userAgent</th>\n",
       "      <th>remoteIp</th>\n",
       "      <th>count</th>\n",
       "    </tr>\n",
       "  </thead>\n",
       "  <tbody>\n",
       "    <tr>\n",
       "      <th>0</th>\n",
       "      <td>AdsBot-Google (+http://www.google.com/adsbot.h...</td>\n",
       "      <td>72.14.199.98</td>\n",
       "      <td>515</td>\n",
       "    </tr>\n",
       "    <tr>\n",
       "      <th>1</th>\n",
       "      <td>AdsBot-Google (+http://www.google.com/adsbot.h...</td>\n",
       "      <td>72.14.199.101</td>\n",
       "      <td>510</td>\n",
       "    </tr>\n",
       "    <tr>\n",
       "      <th>2</th>\n",
       "      <td>AdsBot-Google (+http://www.google.com/adsbot.h...</td>\n",
       "      <td>72.14.199.99</td>\n",
       "      <td>508</td>\n",
       "    </tr>\n",
       "    <tr>\n",
       "      <th>3</th>\n",
       "      <td>AdsBot-Google (+http://www.google.com/adsbot.h...</td>\n",
       "      <td>72.14.199.100</td>\n",
       "      <td>499</td>\n",
       "    </tr>\n",
       "    <tr>\n",
       "      <th>4</th>\n",
       "      <td>AdsBot-Google (+http://www.google.com/adsbot.h...</td>\n",
       "      <td>72.14.199.96</td>\n",
       "      <td>494</td>\n",
       "    </tr>\n",
       "  </tbody>\n",
       "</table>\n",
       "</div>"
      ]
     },
     "execution_count": 52,
     "metadata": {},
     "output_type": "execute_result"
    }
   ],
   "execution_count": 52
  },
  {
   "metadata": {},
   "cell_type": "markdown",
   "source": "## Fetch Google IP Ranges",
   "id": "3153b9d7564f503a"
  },
  {
   "cell_type": "code",
   "source": [
    "url = 'https://developers.google.com/static/search/apis/ipranges/special-crawlers.json'\n",
    "response = requests.get(url)\n",
    "\n",
    "def check_response(response):\n",
    "    if response.status_code == 200:\n",
    "        print('Successful Request')\n",
    "        return response.json()\n",
    "    else:\n",
    "        print('Request Failed')\n",
    "\n",
    "content = check_response(response)"
   ],
   "metadata": {
    "collapsed": false,
    "ExecuteTime": {
     "end_time": "2024-08-17T18:17:11.039296Z",
     "start_time": "2024-08-17T18:17:10.556824Z"
    }
   },
   "id": "89ab0e5c2bbc7b7f",
   "outputs": [
    {
     "name": "stdout",
     "output_type": "stream",
     "text": [
      "Successful Request\n"
     ]
    }
   ],
   "execution_count": 44
  },
  {
   "metadata": {},
   "cell_type": "markdown",
   "source": "## Extract the IP ranges",
   "id": "ac83bbe8e49e6a95"
  },
  {
   "cell_type": "code",
   "source": [
    "# Extract the IP ranges\n",
    "google_ips = content['prefixes']\n",
    "\n",
    "# create a list of IP ranges\n",
    "google_ip_ranges = [ip for ip in google_ips]\n",
    "\n",
    "# create ip ranges for ipv6Prefix\n",
    "google_ipv6_ranges = [ip for ip in google_ips if 'ipv6Prefix' in ip]\n",
    "google_ipv4_ranges = [ip for ip in google_ips if 'ipv4Prefix' in ip]\n",
    "\n",
    "# create dataframes\n",
    "google_ipv4_df = pd.DataFrame(google_ipv4_ranges)\n",
    "google_ipv6_df = pd.DataFrame(google_ipv6_ranges)"
   ],
   "metadata": {
    "collapsed": false,
    "ExecuteTime": {
     "end_time": "2024-08-17T18:17:11.061880Z",
     "start_time": "2024-08-17T18:17:11.059101Z"
    }
   },
   "id": "bb32d86613c62524",
   "outputs": [],
   "execution_count": 45
  },
  {
   "cell_type": "code",
   "source": [
    "import ipaddress\n",
    "\n",
    "# Function to compute the range\n",
    "def compute_range(cidr):\n",
    "    net = ipaddress.ip_network(cidr)\n",
    "    return str(net[0]), str(net[-1])\n",
    "\n",
    "# Apply the function to compute start and end of each range\n",
    "google_ipv4_df['Start IP'], google_ipv4_df['End IP'] = zip(*google_ipv4_df['ipv4Prefix'].apply(compute_range))\n",
    "\n",
    "google_ipv6_df['Start IP'], google_ipv6_df['End IP'] = zip(*google_ipv6_df['ipv6Prefix'].apply(compute_range))\n",
    "\n",
    "# combine the dataframes\n",
    "google_ip_df = google_ipv4_df[['Start IP', 'End IP']]\n",
    "google_ip_df"
   ],
   "metadata": {
    "collapsed": false,
    "ExecuteTime": {
     "end_time": "2024-08-17T18:17:11.092172Z",
     "start_time": "2024-08-17T18:17:11.084751Z"
    }
   },
   "id": "e2e92cbb37bdedfa",
   "outputs": [
    {
     "data": {
      "text/plain": [
       "           Start IP          End IP\n",
       "0       108.177.2.0    108.177.2.31\n",
       "1      192.178.17.0   192.178.17.31\n",
       "2      209.85.238.0   209.85.238.31\n",
       "3    209.85.238.128  209.85.238.159\n",
       "4    209.85.238.160  209.85.238.191\n",
       "..              ...             ...\n",
       "99    74.125.218.32   74.125.218.63\n",
       "100   74.125.218.64   74.125.218.95\n",
       "101   74.125.218.96  74.125.218.127\n",
       "102    74.125.219.0   74.125.219.31\n",
       "103   74.125.219.32   74.125.219.63\n",
       "\n",
       "[104 rows x 2 columns]"
      ],
      "text/html": [
       "<div>\n",
       "<style scoped>\n",
       "    .dataframe tbody tr th:only-of-type {\n",
       "        vertical-align: middle;\n",
       "    }\n",
       "\n",
       "    .dataframe tbody tr th {\n",
       "        vertical-align: top;\n",
       "    }\n",
       "\n",
       "    .dataframe thead th {\n",
       "        text-align: right;\n",
       "    }\n",
       "</style>\n",
       "<table border=\"1\" class=\"dataframe\">\n",
       "  <thead>\n",
       "    <tr style=\"text-align: right;\">\n",
       "      <th></th>\n",
       "      <th>Start IP</th>\n",
       "      <th>End IP</th>\n",
       "    </tr>\n",
       "  </thead>\n",
       "  <tbody>\n",
       "    <tr>\n",
       "      <th>0</th>\n",
       "      <td>108.177.2.0</td>\n",
       "      <td>108.177.2.31</td>\n",
       "    </tr>\n",
       "    <tr>\n",
       "      <th>1</th>\n",
       "      <td>192.178.17.0</td>\n",
       "      <td>192.178.17.31</td>\n",
       "    </tr>\n",
       "    <tr>\n",
       "      <th>2</th>\n",
       "      <td>209.85.238.0</td>\n",
       "      <td>209.85.238.31</td>\n",
       "    </tr>\n",
       "    <tr>\n",
       "      <th>3</th>\n",
       "      <td>209.85.238.128</td>\n",
       "      <td>209.85.238.159</td>\n",
       "    </tr>\n",
       "    <tr>\n",
       "      <th>4</th>\n",
       "      <td>209.85.238.160</td>\n",
       "      <td>209.85.238.191</td>\n",
       "    </tr>\n",
       "    <tr>\n",
       "      <th>...</th>\n",
       "      <td>...</td>\n",
       "      <td>...</td>\n",
       "    </tr>\n",
       "    <tr>\n",
       "      <th>99</th>\n",
       "      <td>74.125.218.32</td>\n",
       "      <td>74.125.218.63</td>\n",
       "    </tr>\n",
       "    <tr>\n",
       "      <th>100</th>\n",
       "      <td>74.125.218.64</td>\n",
       "      <td>74.125.218.95</td>\n",
       "    </tr>\n",
       "    <tr>\n",
       "      <th>101</th>\n",
       "      <td>74.125.218.96</td>\n",
       "      <td>74.125.218.127</td>\n",
       "    </tr>\n",
       "    <tr>\n",
       "      <th>102</th>\n",
       "      <td>74.125.219.0</td>\n",
       "      <td>74.125.219.31</td>\n",
       "    </tr>\n",
       "    <tr>\n",
       "      <th>103</th>\n",
       "      <td>74.125.219.32</td>\n",
       "      <td>74.125.219.63</td>\n",
       "    </tr>\n",
       "  </tbody>\n",
       "</table>\n",
       "<p>104 rows × 2 columns</p>\n",
       "</div>"
      ]
     },
     "execution_count": 46,
     "metadata": {},
     "output_type": "execute_result"
    }
   ],
   "execution_count": 46
  },
  {
   "cell_type": "markdown",
   "source": [
    "## Verify the IP addresses"
   ],
   "metadata": {
    "collapsed": false
   },
   "id": "fdeae94789e9203c"
  },
  {
   "cell_type": "code",
   "source": [
    "# Check if an IP address is in the range\n",
    "def check_ip(ip, start, end):\n",
    "    ip_int = int(ipaddress.ip_address(ip))\n",
    "    start_int = int(ipaddress.ip_address(start))\n",
    "    end_int = int(ipaddress.ip_address(end))\n",
    "    result = start_int <= ip_int <= end_int\n",
    "    return result\n",
    "\n",
    "# Check if the IP address is in the range for the first 4 rows of df\n",
    "df['is_google'] = False\n",
    "for df_index, df_row in df.iterrows():  # Loop through the first 4 rows\n",
    "    is_google = False\n",
    "    for google_index, google_row in google_ip_df.iterrows():\n",
    "        if check_ip(df_row['remoteIp'], google_row['Start IP'], google_row['End IP']):\n",
    "            is_google = True\n",
    "            break\n",
    "    df.at[df_index, 'is_google'] = is_google\n",
    "\n",
    "# print summary\n",
    "df['is_google'].value_counts(normalize=True)"
   ],
   "metadata": {
    "collapsed": false,
    "ExecuteTime": {
     "end_time": "2024-08-17T18:17:11.692357Z",
     "start_time": "2024-08-17T18:17:11.145879Z"
    }
   },
   "id": "91baadd3790fcd25",
   "outputs": [
    {
     "data": {
      "text/plain": [
       "is_google\n",
       "True     0.99376\n",
       "False    0.00624\n",
       "Name: proportion, dtype: float64"
      ]
     },
     "execution_count": 47,
     "metadata": {},
     "output_type": "execute_result"
    }
   ],
   "execution_count": 47
  },
  {
   "cell_type": "code",
   "source": [
    "# Summarize the data\n",
    "df.groupby('is_google').agg({'is_google': 'count',\n",
    "                             'count': 'sum',\n",
    "                             }).rename(columns={'is_google': 'count',\n",
    "                                                'count': 'total_requests',})"
   ],
   "metadata": {
    "collapsed": false,
    "ExecuteTime": {
     "end_time": "2024-08-17T18:17:11.727423Z",
     "start_time": "2024-08-17T18:17:11.723051Z"
    }
   },
   "id": "fda6468b3c1afa5a",
   "outputs": [
    {
     "data": {
      "text/plain": [
       "           count  total_requests\n",
       "is_google                       \n",
       "False          4               5\n",
       "True         637           16412"
      ],
      "text/html": [
       "<div>\n",
       "<style scoped>\n",
       "    .dataframe tbody tr th:only-of-type {\n",
       "        vertical-align: middle;\n",
       "    }\n",
       "\n",
       "    .dataframe tbody tr th {\n",
       "        vertical-align: top;\n",
       "    }\n",
       "\n",
       "    .dataframe thead th {\n",
       "        text-align: right;\n",
       "    }\n",
       "</style>\n",
       "<table border=\"1\" class=\"dataframe\">\n",
       "  <thead>\n",
       "    <tr style=\"text-align: right;\">\n",
       "      <th></th>\n",
       "      <th>count</th>\n",
       "      <th>total_requests</th>\n",
       "    </tr>\n",
       "    <tr>\n",
       "      <th>is_google</th>\n",
       "      <th></th>\n",
       "      <th></th>\n",
       "    </tr>\n",
       "  </thead>\n",
       "  <tbody>\n",
       "    <tr>\n",
       "      <th>False</th>\n",
       "      <td>4</td>\n",
       "      <td>5</td>\n",
       "    </tr>\n",
       "    <tr>\n",
       "      <th>True</th>\n",
       "      <td>637</td>\n",
       "      <td>16412</td>\n",
       "    </tr>\n",
       "  </tbody>\n",
       "</table>\n",
       "</div>"
      ]
     },
     "execution_count": 48,
     "metadata": {},
     "output_type": "execute_result"
    }
   ],
   "execution_count": 48
  },
  {
   "cell_type": "code",
   "source": [
    "# Example: return False rows\n",
    "df[df['is_google'] == False]"
   ],
   "metadata": {
    "collapsed": false,
    "ExecuteTime": {
     "end_time": "2024-08-17T18:17:11.773838Z",
     "start_time": "2024-08-17T18:17:11.770132Z"
    }
   },
   "id": "d7131be7e8f6404",
   "outputs": [
    {
     "data": {
      "text/plain": [
       "                                             userAgent        remoteIp  count  \\\n",
       "519  Mozilla/5.0 (Windows NT 10.0; Win64; x64) Appl...     66.102.8.64      2   \n",
       "562  Mozilla/5.0 (Windows NT 10.0; Win64; x64) Appl...  64.233.172.137      1   \n",
       "565  Mozilla/5.0 (Windows NT 10.0; Win64; x64) Appl...  64.233.172.135      1   \n",
       "582  Mozilla/5.0 (Linux; Android 13; Pixel 7) Apple...  64.233.172.137      1   \n",
       "\n",
       "     is_google  \n",
       "519      False  \n",
       "562      False  \n",
       "565      False  \n",
       "582      False  "
      ],
      "text/html": [
       "<div>\n",
       "<style scoped>\n",
       "    .dataframe tbody tr th:only-of-type {\n",
       "        vertical-align: middle;\n",
       "    }\n",
       "\n",
       "    .dataframe tbody tr th {\n",
       "        vertical-align: top;\n",
       "    }\n",
       "\n",
       "    .dataframe thead th {\n",
       "        text-align: right;\n",
       "    }\n",
       "</style>\n",
       "<table border=\"1\" class=\"dataframe\">\n",
       "  <thead>\n",
       "    <tr style=\"text-align: right;\">\n",
       "      <th></th>\n",
       "      <th>userAgent</th>\n",
       "      <th>remoteIp</th>\n",
       "      <th>count</th>\n",
       "      <th>is_google</th>\n",
       "    </tr>\n",
       "  </thead>\n",
       "  <tbody>\n",
       "    <tr>\n",
       "      <th>519</th>\n",
       "      <td>Mozilla/5.0 (Windows NT 10.0; Win64; x64) Appl...</td>\n",
       "      <td>66.102.8.64</td>\n",
       "      <td>2</td>\n",
       "      <td>False</td>\n",
       "    </tr>\n",
       "    <tr>\n",
       "      <th>562</th>\n",
       "      <td>Mozilla/5.0 (Windows NT 10.0; Win64; x64) Appl...</td>\n",
       "      <td>64.233.172.137</td>\n",
       "      <td>1</td>\n",
       "      <td>False</td>\n",
       "    </tr>\n",
       "    <tr>\n",
       "      <th>565</th>\n",
       "      <td>Mozilla/5.0 (Windows NT 10.0; Win64; x64) Appl...</td>\n",
       "      <td>64.233.172.135</td>\n",
       "      <td>1</td>\n",
       "      <td>False</td>\n",
       "    </tr>\n",
       "    <tr>\n",
       "      <th>582</th>\n",
       "      <td>Mozilla/5.0 (Linux; Android 13; Pixel 7) Apple...</td>\n",
       "      <td>64.233.172.137</td>\n",
       "      <td>1</td>\n",
       "      <td>False</td>\n",
       "    </tr>\n",
       "  </tbody>\n",
       "</table>\n",
       "</div>"
      ]
     },
     "execution_count": 49,
     "metadata": {},
     "output_type": "execute_result"
    }
   ],
   "execution_count": 49
  },
  {
   "cell_type": "markdown",
   "source": [
    "## Export the data"
   ],
   "metadata": {
    "collapsed": false
   },
   "id": "2c0b1d00dc1e9c57"
  },
  {
   "cell_type": "code",
   "source": [
    "import time \n",
    "datetime = time.strftime(\"%Y%m%d\")\n",
    "df.to_csv(f'export/{datetime}AdsBot_Verification.csv', index=False)\n",
    "print('Data Exported Successfully!')"
   ],
   "metadata": {
    "collapsed": false,
    "ExecuteTime": {
     "end_time": "2024-08-17T18:17:11.821029Z",
     "start_time": "2024-08-17T18:17:11.817019Z"
    }
   },
   "id": "c3ead4d94368dfac",
   "outputs": [
    {
     "name": "stdout",
     "output_type": "stream",
     "text": [
      "Data Exported Successfully\n"
     ]
    }
   ],
   "execution_count": 50
  }
 ],
 "metadata": {
  "kernelspec": {
   "display_name": "Python 3",
   "language": "python",
   "name": "python3"
  },
  "language_info": {
   "codemirror_mode": {
    "name": "ipython",
    "version": 2
   },
   "file_extension": ".py",
   "mimetype": "text/x-python",
   "name": "python",
   "nbconvert_exporter": "python",
   "pygments_lexer": "ipython2",
   "version": "2.7.6"
  }
 },
 "nbformat": 4,
 "nbformat_minor": 5
}
